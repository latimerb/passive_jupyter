{
 "cells": [
  {
   "cell_type": "code",
   "execution_count": null,
   "metadata": {
    "collapsed": true
   },
   "outputs": [],
   "source": []
  },
  {
   "cell_type": "code",
   "execution_count": 4,
   "metadata": {
    "collapsed": false
   },
   "outputs": [
    {
     "data": {
      "image/png": "[encoded data removed]",
      "text/plain": [
       "<matplotlib.figure.Figure at 0xa2a7630>"
      ]
     },
     "metadata": {},
     "output_type": "display_data"
    }
   ],
   "source": [
    "from neuron import h\n",
    "h.load_file('stdrun.hoc')\n",
    "\n",
    "\n",
    "\n",
    "#Create the soma section and define the default parameters\n",
    "soma = h.Section(name='soma')\n",
    "soma.nseg = 1\n",
    "soma.diam = 200\n",
    "soma.L = 100\n",
    "soma.cm = 1.4884e-4/6.2832e-4\n",
    "\n",
    "#Insert the Hodgkin-Huxley channels and define the conductances\n",
    "soma.insert('hh')\n",
    "soma.gnabar_hh = 0\n",
    "soma.gkbar_hh = 0\n",
    "soma.gl_hh = 2.0e-5\n",
    "soma.el_hh = -70\n",
    "\n",
    "#v_init = h.v_init= -60\n",
    "\n",
    "#Inject current in the middle of the soma\n",
    "stim = h.IClamp(0.5)\n",
    "stim.delay = 100\n",
    "stim.dur = 500\n",
    "stim.amp = 1\n",
    "\n",
    "tstop = h.tstop = 800   #ms\n",
    "\n",
    "#++++++++++++++++++++++++++++++++++++++++++++++++++++++++++#\n",
    "#Record Results  \n",
    "h.dt = 0.025\n",
    "\n",
    "v0_vec = h.Vector()\n",
    "t_vec = h.Vector()\n",
    "\n",
    "v0_vec.record(soma(0.5)._ref_v)\n",
    "t_vec.record(h._ref_t)\n",
    "h.run()\n",
    "\n",
    "\n",
    "#Visualize Results\n",
    "from matplotlib import pyplot\n",
    "pyplot.figure()\n",
    "pyplot.plot(t_vec, v0_vec,'b')\n",
    "pyplot.xlim(0, 800)\n",
    "pyplot.xlabel('time (ms)')\n",
    "pyplot.ylabel('mV')\n",
    "\n",
    "\n",
    "pyplot.show()\n",
    "\n"
   ]
  },
  {
   "cell_type": "code",
   "execution_count": null,
   "metadata": {
    "collapsed": true
   },
   "outputs": [],
   "source": []
  }
 ],
 "metadata": {
  "kernelspec": {
   "display_name": "Python 2",
   "language": "python",
   "name": "python2"
  },
  "language_info": {
   "codemirror_mode": {
    "name": "ipython",
    "version": 2
   },
   "file_extension": ".py",
   "mimetype": "text/x-python",
   "name": "python",
   "nbconvert_exporter": "python",
   "pygments_lexer": "ipython2",
   "version": "2.7.13"
  }
 },
 "nbformat": 4,
 "nbformat_minor": 0
}
